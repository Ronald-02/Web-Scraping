{
 "cells": [
  {
   "cell_type": "markdown",
   "metadata": {},
   "source": [
    "# Web Scraping com BeautifulSoup\n",
    "\n",
    "O que é?\n",
    "\n",
    "Biblioteca em Python voltada a parsear documentos HTML e XML\n",
    "\n",
    "Como utilizar?\n",
    "\n",
    "pip install beautifulsoup4\n",
    "\n",
    "!pip3 install beautifulsoup4\n",
    "\n",
    "Requirement already satisfied: beautifulsoup4 in /opt/homebrew/lib/python3.10/site-packages (4.11.1)\n",
    "Requirement already satisfied: soupsieve>1.2 in /opt/homebrew/lib/python3.10/site-packages (from beautifulsoup4) (2.3.2.post1)\n",
    "\n",
    "[notice] A new release of pip available: 22.3.1 -> 24.0\n",
    "[notice] To update, run: python3.10 -m pip install --upgrade pip\n",
    "from bs4 import BeautifulSoup\n",
    "\n",
    "Quando utilizar?\n",
    "\n",
    "* Localizar\n",
    "* Maninupular\n",
    "* Extrair"
   ]
  },
  {
   "cell_type": "code",
   "execution_count": 1,
   "metadata": {},
   "outputs": [],
   "source": [
    "from bs4 import BeautifulSoup"
   ]
  },
  {
   "cell_type": "code",
   "execution_count": 2,
   "metadata": {},
   "outputs": [],
   "source": [
    "html = \"\"\"<!DOCTYPE html>\n",
    "<html lang=\"en\">\n",
    "<head>\n",
    "    <meta charset=\"UTF-8\">\n",
    "    <meta http-equiv=\"X-UA-Compatible\" content=\"IE=edge\">\n",
    "    <meta name=\"viewport\" content=\"width=device-width, initial-scale=1.0\">\n",
    "    <title>Web_scraping_Ada</title>\n",
    "</head>\n",
    "<body>\n",
    "    <h1> Essa é a aula 2 de web scraping da ada</h1>\n",
    "    <h6 class = \"teste\"> esse é um subtitulo</h6>\n",
    "    <p> esse é um paragrafo</p>\n",
    "    <p> esse é um outro paragrafo</p>\n",
    "    \n",
    "\n",
    "    <ul>\n",
    "        <li id=\"teste2\">Item 1</li>\n",
    "        <li>Item 2</li>\n",
    "    </ul>\n",
    "\n",
    "    <ol>\n",
    "        <li>Primeiro item</li>\n",
    "        <li>Segundo item</li>\n",
    "    </ol>\n",
    "</body>\n",
    "</html>\"\"\"\n",
    "\n",
    "html_parsed = BeautifulSoup(html,\"html.parser\")"
   ]
  },
  {
   "cell_type": "code",
   "execution_count": 3,
   "metadata": {},
   "outputs": [
    {
     "data": {
      "text/plain": [
       "<!DOCTYPE html>\n",
       "\n",
       "<html lang=\"en\">\n",
       "<head>\n",
       "<meta charset=\"utf-8\"/>\n",
       "<meta content=\"IE=edge\" http-equiv=\"X-UA-Compatible\"/>\n",
       "<meta content=\"width=device-width, initial-scale=1.0\" name=\"viewport\"/>\n",
       "<title>Web_scraping_Ada</title>\n",
       "</head>\n",
       "<body>\n",
       "<h1> Essa é a aula 2 de web scraping da ada</h1>\n",
       "<h6 class=\"teste\"> esse é um subtitulo</h6>\n",
       "<p> esse é um paragrafo</p>\n",
       "<p> esse é um outro paragrafo</p>\n",
       "<ul>\n",
       "<li id=\"teste2\">Item 1</li>\n",
       "<li>Item 2</li>\n",
       "</ul>\n",
       "<ol>\n",
       "<li>Primeiro item</li>\n",
       "<li>Segundo item</li>\n",
       "</ol>\n",
       "</body>\n",
       "</html>"
      ]
     },
     "execution_count": 3,
     "metadata": {},
     "output_type": "execute_result"
    }
   ],
   "source": [
    "html_parsed"
   ]
  },
  {
   "cell_type": "code",
   "execution_count": 4,
   "metadata": {},
   "outputs": [
    {
     "name": "stdout",
     "output_type": "stream",
     "text": [
      "<!DOCTYPE html>\n",
      "<html lang=\"en\">\n",
      " <head>\n",
      "  <meta charset=\"utf-8\"/>\n",
      "  <meta content=\"IE=edge\" http-equiv=\"X-UA-Compatible\"/>\n",
      "  <meta content=\"width=device-width, initial-scale=1.0\" name=\"viewport\"/>\n",
      "  <title>\n",
      "   Web_scraping_Ada\n",
      "  </title>\n",
      " </head>\n",
      " <body>\n",
      "  <h1>\n",
      "   Essa é a aula 2 de web scraping da ada\n",
      "  </h1>\n",
      "  <h6 class=\"teste\">\n",
      "   esse é um subtitulo\n",
      "  </h6>\n",
      "  <p>\n",
      "   esse é um paragrafo\n",
      "  </p>\n",
      "  <p>\n",
      "   esse é um outro paragrafo\n",
      "  </p>\n",
      "  <ul>\n",
      "   <li id=\"teste2\">\n",
      "    Item 1\n",
      "   </li>\n",
      "   <li>\n",
      "    Item 2\n",
      "   </li>\n",
      "  </ul>\n",
      "  <ol>\n",
      "   <li>\n",
      "    Primeiro item\n",
      "   </li>\n",
      "   <li>\n",
      "    Segundo item\n",
      "   </li>\n",
      "  </ol>\n",
      " </body>\n",
      "</html>\n",
      "\n"
     ]
    }
   ],
   "source": [
    "print(html_parsed.prettify())"
   ]
  },
  {
   "cell_type": "markdown",
   "metadata": {},
   "source": [
    "Metodos principais:\n",
    "\n",
    "* find()\n",
    "* find_all()"
   ]
  },
  {
   "cell_type": "code",
   "execution_count": 5,
   "metadata": {},
   "outputs": [
    {
     "data": {
      "text/plain": [
       "<p> esse é um paragrafo</p>"
      ]
     },
     "execution_count": 5,
     "metadata": {},
     "output_type": "execute_result"
    }
   ],
   "source": [
    "html_parsed.find(\"p\")"
   ]
  },
  {
   "cell_type": "code",
   "execution_count": 6,
   "metadata": {},
   "outputs": [
    {
     "data": {
      "text/plain": [
       "[<p> esse é um paragrafo</p>, <p> esse é um outro paragrafo</p>]"
      ]
     },
     "execution_count": 6,
     "metadata": {},
     "output_type": "execute_result"
    }
   ],
   "source": [
    "html_parsed.find_all(\"p\")"
   ]
  },
  {
   "cell_type": "code",
   "execution_count": 9,
   "metadata": {},
   "outputs": [
    {
     "data": {
      "text/plain": [
       "<h6 class=\"teste\"> esse é um subtitulo</h6>"
      ]
     },
     "execution_count": 9,
     "metadata": {},
     "output_type": "execute_result"
    }
   ],
   "source": [
    "html_parsed.find(class_=\"teste\")"
   ]
  },
  {
   "cell_type": "code",
   "execution_count": 10,
   "metadata": {},
   "outputs": [
    {
     "data": {
      "text/plain": [
       "<li id=\"teste2\">Item 1</li>"
      ]
     },
     "execution_count": 10,
     "metadata": {},
     "output_type": "execute_result"
    }
   ],
   "source": [
    "html_parsed.find(id = \"teste2\")"
   ]
  }
 ],
 "metadata": {
  "kernelspec": {
   "display_name": "Python 3",
   "language": "python",
   "name": "python3"
  },
  "language_info": {
   "codemirror_mode": {
    "name": "ipython",
    "version": 3
   },
   "file_extension": ".py",
   "mimetype": "text/x-python",
   "name": "python",
   "nbconvert_exporter": "python",
   "pygments_lexer": "ipython3",
   "version": "3.11.3"
  }
 },
 "nbformat": 4,
 "nbformat_minor": 2
}
