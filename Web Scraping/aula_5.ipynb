{
 "cells": [
  {
   "cell_type": "markdown",
   "metadata": {},
   "source": [
    "# Como localizar e interagir com elementos web com Selenium \n",
    "\n",
    "Uma parte fundamental do Selenium é a capacidade de localizar elementos em uma página da web para interagir com eles.\n",
    "\n",
    "Como localizar?\n",
    "\n",
    "* Localização por ID\n",
    "* Localização por Nome\n",
    "* Localização por Classe\n",
    "* Localização por XPath\n",
    "* Localização por Seletor CSS\n",
    " \n",
    "Métodos:\n",
    "\n",
    "* Antigo:\n",
    "driver.find_element_by_*\n",
    "\n",
    "* Atual:\n",
    "driver.find_element\n",
    "\n",
    "Exemplo\n",
    "\n",
    "* Encontrar os telefones disponiveis nesse site: https://webscraper.io/test-sites/e-commerce/allinone/phones"
   ]
  },
  {
   "cell_type": "code",
   "execution_count": 2,
   "metadata": {},
   "outputs": [
    {
     "data": {
      "text/plain": [
       "<selenium.webdriver.remote.webelement.WebElement (session=\"d374cbb42dec32a37bf72afe34489b37\", element=\"f.2034855A8011356C24F97877E4257A0C.d.5B9F2F2467B005E4494F60885C2220A8.e.19\")>"
      ]
     },
     "execution_count": 2,
     "metadata": {},
     "output_type": "execute_result"
    }
   ],
   "source": [
    "from selenium import webdriver\n",
    "from selenium.webdriver.common.by import By\n",
    "\n",
    "driver = webdriver.Chrome()\n",
    "\n",
    "driver.get(\"https://webscraper.io/test-sites/e-commerce/allinone/phones\")\n",
    "\n",
    "driver.find_element(By.CLASS_NAME, \"title\")"
   ]
  },
  {
   "cell_type": "code",
   "execution_count": 3,
   "metadata": {},
   "outputs": [
    {
     "name": "stdout",
     "output_type": "stream",
     "text": [
      "Iphone\n",
      "Samsung Galaxy\n",
      "Sony Xperia\n"
     ]
    }
   ],
   "source": [
    "lista_telefones = driver.find_elements(By.CLASS_NAME, \"title\")\n",
    "\n",
    "for item in lista_telefones:\n",
    "    print(item.text)"
   ]
  },
  {
   "cell_type": "markdown",
   "metadata": {},
   "source": [
    "Como interagir?\n",
    "\n",
    "* send_keys\n",
    "* click\n",
    "* select\n",
    "* submit\n",
    "\n",
    "Exemplo\n",
    "\n",
    "Encontrar os computadores disponiveis nesse site: https://webscraper.io/test-sites/e-commerce/allinone/phones"
   ]
  },
  {
   "cell_type": "code",
   "execution_count": 4,
   "metadata": {},
   "outputs": [],
   "source": [
    "from selenium import webdriver\n",
    "\n",
    "\n",
    "driver = webdriver.Chrome()\n",
    "\n",
    "driver.get(\"https://webscraper.io/test-sites/e-commerce/allinone/phones\")\n",
    "\n",
    "computadores = driver.find_element(By.XPATH,'//*[@id=\"side-menu\"]/li[2]/a')\n",
    "\n",
    "computadores.click()"
   ]
  }
 ],
 "metadata": {
  "kernelspec": {
   "display_name": "Python 3",
   "language": "python",
   "name": "python3"
  },
  "language_info": {
   "codemirror_mode": {
    "name": "ipython",
    "version": 3
   },
   "file_extension": ".py",
   "mimetype": "text/x-python",
   "name": "python",
   "nbconvert_exporter": "python",
   "pygments_lexer": "ipython3",
   "version": "3.11.3"
  }
 },
 "nbformat": 4,
 "nbformat_minor": 2
}
