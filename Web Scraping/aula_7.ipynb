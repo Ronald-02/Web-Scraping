{
 "cells": [
  {
   "cell_type": "markdown",
   "metadata": {},
   "source": [
    "# Temas avançados com Selenium\n",
    "\n",
    "Com selenium podemos simular interações mais complexas de usuário em páginas web\n",
    "\n",
    "* Cookies personalizados\n",
    "* Requisões Ajax\n",
    "* Lazy Load\n",
    "* Carregamento condicionado\n",
    "* Timeout\n",
    "\n",
    "Cookies personalizados:\n",
    "\n",
    "cookie = {'name' : 'cookie_teste', 'value' : 'teste'}\n",
    "\n",
    "driver.add_cookie(cookie)\n",
    "\n",
    "driver.get_cookies()"
   ]
  },
  {
   "cell_type": "code",
   "execution_count": 2,
   "metadata": {},
   "outputs": [
    {
     "data": {
      "text/plain": [
       "[{'domain': 'www.selenium.dev',\n",
       "  'httpOnly': False,\n",
       "  'name': 'cookie_teste',\n",
       "  'path': '/',\n",
       "  'sameSite': 'Lax',\n",
       "  'secure': True,\n",
       "  'value': 'teste'}]"
      ]
     },
     "execution_count": 2,
     "metadata": {},
     "output_type": "execute_result"
    }
   ],
   "source": [
    "from selenium import webdriver\n",
    "from selenium.webdriver.common.by import By\n",
    "\n",
    "driver = webdriver.Chrome()\n",
    "\n",
    "driver.get(\"http://selenium.dev\")\n",
    "\n",
    "cookie = {'name' : 'cookie_teste', 'value' : 'teste'}\n",
    "\n",
    "driver.add_cookie(cookie)\n",
    "driver.get_cookies()\n"
   ]
  },
  {
   "cell_type": "markdown",
   "metadata": {},
   "source": [
    "Requisições Ajax e Lazy Load:\n",
    "\n",
    "https://www.scrapethissite.com/pages/ajax-javascript/#2013\n",
    "\n",
    "* Espera explicita:\n",
    "\n",
    "from selenium.webdriver.common.by import By\n",
    "from selenium.webdriver.support.ui import WebDriverWait\n",
    "from selenium.webdriver.support import expected_conditions as EC\n",
    "\n",
    "\n",
    " Aguardar até que o elemento esteja clicável, max 10 segundos\n",
    "\n",
    "elemento = WebDriverWait(driver, 10).until(\n",
    "    EC.element_to_be_clickable((By.ID, \"elemento\"))\n",
    ")\n",
    "\n",
    "* Espera implicita\n",
    "\n",
    "Inicialização do WebDriver com espera implícita de 10 segundos\n",
    "\n",
    "driver = webdriver.Chrome()\n",
    "driver.implicitly_wait(10)  \n",
    "\n",
    " Espera implícita de 10 segundos\n",
    "\n",
    "* Carregamento condicionado:\n",
    "\n",
    "Scroll:\n",
    "\n",
    "from selenium.webdriver import ActionChains\n",
    "\n",
    "* scrollar até um elemento\n",
    "\n",
    "iframe = driver.find_element(By.TAG_NAME, \"iframe\")\n",
    "ActionChains(driver)\\\n",
    "        .scroll_to_element(iframe)\\\n",
    "        .perform()\n",
    "\n",
    "* scrollar quantidade especifica\n",
    "\n",
    "ActionChains(driver)\\\n",
    "        .scroll_by_amount(0, delta_y)\\\n",
    "        .perform()\n",
    "\n",
    "\n",
    "Hover\n",
    "\n",
    "from selenium.webdriver import ActionChains\n",
    "\n",
    "hoverable = driver.find_element(By.ID, \"hover\")\n",
    "ActionChains(driver)\\\n",
    "        .move_to_element(hoverable)\\\n",
    "        .perform()\n",
    "* Timeout:\n",
    " \n",
    " Definindo o tempo máximo de espera para o carregamento da página (em segundos)\n",
    "driver.set_page_load_timeout(10)  # Definindo um timeout de 10 segundos\n",
    "\n",
    "try:\n",
    "    \n",
    "     Tentativa de acessar uma página que levará mais tempo para carregar\n",
    "    driver.get(\"https://www.exemplo.com/paginalenta\")\n",
    "    \n",
    "     Se a página carregar dentro do tempo limite, podemos continuar com as operações\n",
    "    print(\"Página carregada com sucesso!\")\n",
    "\n",
    "except TimeoutException:\n",
    "    \n",
    "    Se a página não carregar dentro do tempo limite, será lançada uma exceção\n",
    "    print(\"Timeout: A página não pôde ser carregada dentro do tempo limite.\")\n"
   ]
  }
 ],
 "metadata": {
  "kernelspec": {
   "display_name": "Python 3",
   "language": "python",
   "name": "python3"
  },
  "language_info": {
   "codemirror_mode": {
    "name": "ipython",
    "version": 3
   },
   "file_extension": ".py",
   "mimetype": "text/x-python",
   "name": "python",
   "nbconvert_exporter": "python",
   "pygments_lexer": "ipython3",
   "version": "3.11.3"
  }
 },
 "nbformat": 4,
 "nbformat_minor": 2
}
