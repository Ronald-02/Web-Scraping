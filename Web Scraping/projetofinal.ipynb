{
 "cells": [
  {
   "cell_type": "markdown",
   "metadata": {},
   "source": [
    "# Projeto Final \n",
    "\n",
    "<strong> Problema gerador: </strong>\n",
    "\n",
    "Você trabalha em um projeto de análise de dados e precisa adquirir informações de uma página da Wikipedia sobre um tema específico para sua análise.\n",
    "\n",
    "No entanto, a Wikipedia não fornece uma API direta para acessar os dados, então você decide criar um script Python para automatizar o processo de aquisição de dados. \n",
    "\n",
    "Você planeja usar Selenium para navegar até a página da Wikipedia relacionada ao seu tema de interesse, salvar o conteúdo HTML da página, extrair a tabela relevante usando BeautifulSoup e, finalmente, processar os dados da tabela com pandas para análise posterior.\n"
   ]
  },
  {
   "cell_type": "code",
   "execution_count": 99,
   "metadata": {},
   "outputs": [
    {
     "name": "stdout",
     "output_type": "stream",
     "text": [
      "Página wiki\n"
     ]
    }
   ],
   "source": [
    "import pandas as pd \n",
    "from bs4 import BeautifulSoup\n",
    "from selenium import webdriver\n",
    "from selenium.webdriver.common.by import By\n",
    "\n",
    "url = \"https://pt.wikipedia.org/wiki/Wikip%C3%A9dia:P%C3%A1gina_principal\"\n",
    "\n",
    "tema = \"dolar americano\"\n",
    "\n",
    "driver = webdriver.Chrome()\n",
    "\n",
    "#fazer a pesquisa\n",
    "driver.get(url)\n",
    "search_box = driver.find_element(By.NAME,\"search\")\n",
    "search_box.send_keys(tema)\n",
    "search_box.submit()\n",
    "\n",
    "\n",
    "# Tratar tipos de pesquisa e acessar a página wiki\n",
    "if driver.find_elements(By.XPATH, '//*[@id=\"disambig\"]/table/tbody/tr/td[1]/span/a/img'):\n",
    "    print(\"Página de desambiguação\")\n",
    "    driver.find_element(By.XPATH, '//*[@id=\"mw-content-text\"]/div[1]/ul/li[1]/a').click()\n",
    "elif driver.find_elements(By.XPATH, '//*[@id=\"firstHeading\"]'):\n",
    "    if driver.find_elements(By.XPATH, '//*[@id=\"firstHeading\"]')[0].text == \"Resultados da pesquisa\":\n",
    "        print(\"Pesquisa avançada\")\n",
    "        driver.find_element(By.XPATH, '//*[@id=\"mw-content-text\"]/div[3]/div[4]/ul/li[1]/div[2]/div[2]/div[1]/a').click()\n",
    "    else:\n",
    "        print(\"Página wiki\")\n",
    "\n",
    "# Obtenha o HTML da página\n",
    "html = driver.page_source\n",
    "\n",
    "# Feche o navegador\n",
    "driver.quit()\n"
   ]
  },
  {
   "cell_type": "code",
   "execution_count": 100,
   "metadata": {},
   "outputs": [],
   "source": [
    "html_parsed = BeautifulSoup(html,\"html.parser\")\n"
   ]
  },
  {
   "cell_type": "code",
   "execution_count": 101,
   "metadata": {},
   "outputs": [
    {
     "name": "stdout",
     "output_type": "stream",
     "text": [
      "    0                                                  1\n",
      "0 NaN  Esta página cita fontes, mas que não cobrem to...\n",
      "  United States dollar (em inglês)  \\\n",
      "0                              NaN   \n",
      "1                            Dados   \n",
      "2                  Código ISO 4217   \n",
      "3                            Usado   \n",
      "4                         Inflação   \n",
      "\n",
      "                  United States dollar (em inglês).1  \n",
      "0                                                NaN  \n",
      "1                                              Dados  \n",
      "2                                                USD  \n",
      "3  Oficialmente:  Estados Unidos  Timor-Leste[1] ...  \n",
      "4    4,9% (apenas Estados Unidos) (abril de 2023)[5]  \n",
      "    Unidade ($) Anverso Inverso     Desenho no anverso  \\\n",
      "0        Moedas  Moedas  Moedas                 Moedas   \n",
      "1    0,01 Penny     NaN     NaN        Abraham Lincoln   \n",
      "2   0,05 Nickel     NaN     NaN       Thomas Jefferson   \n",
      "3     0,10 Dime     NaN     NaN  Franklin D. Roosevelt   \n",
      "4  0,25 Quarter     NaN     NaN      George Washington   \n",
      "\n",
      "                       Desenho no inverso  \n",
      "0                                  Moedas  \n",
      "1                         Escudo da União  \n",
      "2                              Monticello  \n",
      "3  Tocha, ramo de carvalho, ramo de oliva  \n",
      "4                   Vários; cinco por ano  \n",
      "                                vdeMoedas da América  \\\n",
      "0  Balboa (Panamá) • Bolívar forte (Venezuela) • ...   \n",
      "\n",
      "                              vdeMoedas da América.1  \n",
      "0  Balboa (Panamá) • Bolívar forte (Venezuela) • ...  \n",
      "                                 vdeMoedas de África  \\\n",
      "0  Ariari (Madagáscar) Birr (Etiópia) Cedi (Gana)...   \n",
      "\n",
      "                               vdeMoedas de África.1  \n",
      "0  Ariari (Madagáscar) Birr (Etiópia) Cedi (Gana)...  \n",
      "                                   vdeMoedas da Ásia  \\\n",
      "0  Afegane (Afeganistão) • Apsar abcásio (Abecási...   \n",
      "\n",
      "                                 vdeMoedas da Ásia.1  \n",
      "0  Afegane (Afeganistão) • Apsar abcásio (Abecási...  \n",
      "                                vdeMoedas da Oceania  \\\n",
      "0  Dólar australiano (Austrália, Nauru, Quiribáti...   \n",
      "\n",
      "                              vdeMoedas da Oceania.1  \n",
      "0  Dólar australiano (Austrália, Nauru, Quiribáti...  \n"
     ]
    }
   ],
   "source": [
    "import pandas as pd\n",
    "from bs4 import BeautifulSoup\n",
    "from io import StringIO\n",
    "\n",
    "# encontra todas as tabelas na página\n",
    "tabelas = html_parsed.find_all(\"table\")\n",
    "\n",
    "# inicialize uma lista para armazenar os DataFrames das tabelas\n",
    "dataframes = []\n",
    "\n",
    "# itere sobre cada tabela e leia-a em um DataFrame\n",
    "for tabela in tabelas:\n",
    "    # Leia a tabela em um DataFrame\n",
    "    df = pd.read_html(StringIO(str(tabela)))\n",
    "    # Adicione o DataFrame à lista\n",
    "    dataframes.extend(df)\n",
    "\n",
    "# Exiba as primeiras linhas de cada DataFrame\n",
    "for df in dataframes:\n",
    "    print(df.head())\n"
   ]
  }
 ],
 "metadata": {
  "kernelspec": {
   "display_name": "Python 3",
   "language": "python",
   "name": "python3"
  },
  "language_info": {
   "codemirror_mode": {
    "name": "ipython",
    "version": 3
   },
   "file_extension": ".py",
   "mimetype": "text/x-python",
   "name": "python",
   "nbconvert_exporter": "python",
   "pygments_lexer": "ipython3",
   "version": "3.11.3"
  }
 },
 "nbformat": 4,
 "nbformat_minor": 2
}
